{
 "cells": [
  {
   "cell_type": "code",
   "execution_count": 2,
   "metadata": {
    "jupyter": {
     "outputs_hidden": false
    }
   },
   "outputs": [
    {
     "name": "stdout",
     "output_type": "stream",
     "text": [
      "Using matplotlib backend: Qt5Agg\n",
      "Populating the interactive namespace from numpy and matplotlib\n"
     ]
    },
    {
     "name": "stderr",
     "output_type": "stream",
     "text": [
      "C:\\Users\\gduscher\\Anaconda3\\lib\\site-packages\\IPython\\core\\magics\\pylab.py:159: UserWarning: pylab import has clobbered these variables: ['plt']\n",
      "`%matplotlib` prevents importing * from pylab and numpy\n",
      "  warn(\"pylab import has clobbered these variables: %s\"  % clobbered +\n"
     ]
    }
   ],
   "source": [
    "%matplotlib inline"
   ]
  },
  {
   "cell_type": "markdown",
   "metadata": {},
   "source": [
    "\n",
    "# Creating and manipulating Datasets\n",
    "\n",
    "**Gerd Duscher and Suhas Somnath**\n",
    "\n",
    "08/25/2020\n",
    "\n",
    "**This document is a simple example of how to create and manipulate Dataset\n",
    "objects**\n",
    "\n",
    "**UNDER CONSTRUCTION**\n"
   ]
  },
  {
   "cell_type": "code",
   "execution_count": 1,
   "metadata": {
    "jupyter": {
     "outputs_hidden": false
    }
   },
   "outputs": [
    {
     "name": "stdout",
     "output_type": "stream",
     "text": [
      "sidpy version:  0.0.2gd\n"
     ]
    }
   ],
   "source": [
    "# Ensure python 3 compatibility:\n",
    "from __future__ import division, print_function, absolute_import, unicode_literals\n",
    "import matplotlib.pylab as plt\n",
    "import numpy as np\n",
    "import sys\n",
    "\n",
    "sys.path.append('../../')\n",
    "import sidpy\n",
    "print('sidpy version: ', sidpy.__version__)"
   ]
  },
  {
   "cell_type": "markdown",
   "metadata": {},
   "source": [
    "## Creating a ``sipy.Dataset`` object\n",
    "We can create a simple sidpy Dataset from any array like object\n",
    "Here we just use a numpy array filled with zeros\n",
    "\n"
   ]
  },
  {
   "cell_type": "code",
   "execution_count": 2,
   "metadata": {
    "jupyter": {
     "outputs_hidden": false
    }
   },
   "outputs": [
    {
     "name": "stdout",
     "output_type": "stream",
     "text": [
      "sipy Dataset of type DataTypes.UNKNOWN with:\n",
      " dask.array<random, shape=(4, 5, 10), dtype=float64, chunksize=(4, 5, 10), chunktype=numpy.ndarray>\n",
      " data contains: generic (generic)\n",
      " and Dimensions: \n",
      "  a:  generic (generic) of size 4\n",
      "  b:  generic (generic) of size 5\n",
      "  c:  generic (generic) of size 10\n"
     ]
    }
   ],
   "source": [
    "data_set = sidpy.Dataset.from_array(np.random.random([4, 5, 10]), name='random')\n",
    "print(data_set)"
   ]
  },
  {
   "cell_type": "markdown",
   "metadata": {},
   "source": [
    "Note that ``data_set`` is a dask array....\n",
    "We will be improving upon the information that will be displayed when printing ``sidpy.Dataset`` objects\n",
    "\n",
    "Accessing data within a ``Dataset``:\n",
    "Indexing of the dataset works like in numpy\n",
    "Note, that we first index and then we make a numpy array for printing reasons\n"
   ]
  },
  {
   "cell_type": "code",
   "execution_count": 3,
   "metadata": {
    "jupyter": {
     "outputs_hidden": false
    }
   },
   "outputs": [
    {
     "name": "stdout",
     "output_type": "stream",
     "text": [
      "[0.27170463 0.03793639 0.42977028 0.32125069]\n"
     ]
    }
   ],
   "source": [
    "print(np.array(data_set[:,0,2]))"
   ]
  },
  {
   "cell_type": "markdown",
   "metadata": {},
   "source": [
    "Slicing and dicing:\n",
    "\n"
   ]
  },
  {
   "cell_type": "markdown",
   "metadata": {},
   "source": [
    "## Metadata\n",
    "``sidpy`` automatically assigns generic top-level metadata regarding the\n",
    "``Dataset``. Users are encouraged to capture the context regarding the dataset.\n",
    "The attributes included in the sidpy dataset are ``data_type``,  quantity, and  units,\n",
    "Those attributes are set to ``generic`` originally but one would want to set them t\n",
    "for the specific dataset. that will be important for plotting the data.\n",
    "Here's how one could do that, with the wrong key word:\n",
    "\n"
   ]
  },
  {
   "cell_type": "code",
   "execution_count": 5,
   "metadata": {
    "jupyter": {
     "outputs_hidden": false
    }
   },
   "outputs": [
    {
     "name": "stdout",
     "output_type": "stream",
     "text": [
      "Supported data_types for plotting are only:  ['UNKNOWN', 'SPECTRUM', 'LINE_PLOT', 'LINE_PLOT_FAMILY', 'IMAGE', 'IMAGE_MAP', 'IMAGE_STACK', 'SPECTRAL_IMAGE', 'IMAGE_4D']\n",
      "Setting data_type to UNKNOWN\n"
     ]
    }
   ],
   "source": [
    "data_set.data_type = 'spectrum_image'  # not supported"
   ]
  },
  {
   "cell_type": "markdown",
   "metadata": {},
   "source": [
    "Here's how one could do that sucessfully:"
   ]
  },
  {
   "cell_type": "code",
   "execution_count": 6,
   "metadata": {},
   "outputs": [],
   "source": [
    "data_set.data_type = 'spectral_image'  # supported\n",
    "\n",
    "data_set.units = 'nA'\n",
    "data_set.quantity = 'Current'"
   ]
  },
  {
   "cell_type": "markdown",
   "metadata": {},
   "source": [
    "### Scientific metadata\n",
    "These ``Dataset`` objects can also capture rich scientific metadata such as\n",
    "acquisition parameters, etc. as well:\n",
    "We would want to add those parameters as attributes.\n",
    "These attributes could be lists, numpy arrays or simple dictionaries.\n",
    "It is encouraged to add any parameters of data analysis to the datasets,\n",
    "to keep track of input parameters. Here I made some up as an illustration:\n",
    "\n",
    " These ``Dataset`` objects can also capture rich scientific metadata such as acquisition parameters, etc. as well:\n",
    "\n",
    "We would want to add those parameters as attributes. These attributes could be lists, numpy arrays or simple dictionaries. It is encouraged to add any parameters of data analysis to the datasets, to keep track of input parameters.\n",
    "\n",
    "It is recommended to add any parameters to the (nested) metadata dictionary.\n",
    "These metadata can then be viewed in dataset.view_metadata and dataset.view_original_metadata.\n",
    " Only in extreme cases should one resort to adding data as attributes (however these\n",
    " attributes will be stored in pyNSID)\n",
    "Please note, that the dictionary ``original_metadata`` should not be changed so that information provided by the acquisition device stays pristine, but relevant inforamtion should be copied over to the ``metadaata`` attribute/dictionary.\n",
    "\n",
    "\n",
    "Here I made some up metadata as an illustration:\n"
   ]
  },
  {
   "cell_type": "code",
   "execution_count": 11,
   "metadata": {
    "jupyter": {
     "outputs_hidden": false
    }
   },
   "outputs": [
    {
     "name": "stdout",
     "output_type": "stream",
     "text": [
      "[0 1 2 3 4]\n",
      "nothing :  \n",
      "value : 6.8\n",
      "instrument :\n",
      "\tmicroscope : Nion\n",
      "\tacceleration_voltage : 60000\n",
      "acquired : nowhere\n"
     ]
    }
   ],
   "source": [
    "data_set.calibration = np.arange(5)\n",
    "data_set.metadata = {'nothing': ' ', 'value': 6.8, 'instrument': {'microscope': 'Nion', 'acceleration_voltage':60000}}\n",
    "data_set.metadata['acquired'] = 'nowhere'\n",
    "\n",
    "print(data_set.calibration)\n",
    "sidpy.dict_utils.print_nested_dict(data_set.metadata)"
   ]
  },
  {
   "cell_type": "markdown",
   "metadata": {},
   "source": [
    "Another set of metadata in these Datasets is the Dimension ones:\n",
    "\n"
   ]
  },
  {
   "cell_type": "markdown",
   "metadata": {},
   "source": [
    "## Dimensions\n",
    "The ``Dataset`` is automatically populated with generic information about\n",
    "each dimension of the ``Dataset``. It is a good idea to capture context\n",
    "regarding each of these dimensions using ``sidpy.Dimension``.\n",
    "As a minimum we need a name and values (of the smae length as the dimensions of the data).\n",
    "One can provide as much or as little information about each dimension.\n",
    "\n"
   ]
  },
  {
   "cell_type": "code",
   "execution_count": 12,
   "metadata": {
    "jupyter": {
     "outputs_hidden": false
    }
   },
   "outputs": [],
   "source": [
    "data_set.set_dimension(0, sidpy.Dimension('x', np.arange(data_set.shape[0]),\n",
    "                                        units='um', quantity='Length',\n",
    "                                        dimension_type='spatial'))\n",
    "data_set.set_dimension(1, sidpy.Dimension('y', np.linspace(-2, 2, num=data_set.shape[1], endpoint=True),\n",
    "                                        units='um', quantity='Length',\n",
    "                                        dimension_type='spatial'))\n",
    "data_set.set_dimension(2, sidpy.Dimension('bias', np.sin(np.linspace(0, 2 * np.pi, num=data_set.shape[2])),\n",
    "                                        ))"
   ]
  },
  {
   "cell_type": "markdown",
   "metadata": {},
   "source": [
    "One could also manually add information regarding specific components of\n",
    "dimensions associated with Datasets via:\n",
    "\n"
   ]
  },
  {
   "cell_type": "code",
   "execution_count": 13,
   "metadata": {
    "jupyter": {
     "outputs_hidden": false
    }
   },
   "outputs": [],
   "source": [
    "data_set.bias.dimension_type = 'spectral'\n",
    "data_set.bias.units = 'V'\n",
    "data_set.bias.quantity = 'Bias'"
   ]
  },
  {
   "cell_type": "markdown",
   "metadata": {},
   "source": [
    "Let's take a look at what the dataset looks like with the additional information\n",
    "regarding the dimensions.\n",
    "Also the print function provides now a little more information about our dataset\n",
    "\n"
   ]
  },
  {
   "cell_type": "code",
   "execution_count": 14,
   "metadata": {
    "jupyter": {
     "outputs_hidden": false
    }
   },
   "outputs": [
    {
     "name": "stdout",
     "output_type": "stream",
     "text": [
      "bias - Bias (V): [ 0.00000000e+00  6.42787610e-01  9.84807753e-01  8.66025404e-01\n",
      "  3.42020143e-01 -3.42020143e-01 -8.66025404e-01 -9.84807753e-01\n",
      " -6.42787610e-01 -2.44929360e-16]\n",
      "sipy Dataset of type DataTypes.SPECTRAL_IMAGE with:\n",
      " dask.array<random, shape=(4, 5, 10), dtype=float64, chunksize=(4, 5, 10), chunktype=numpy.ndarray>\n",
      " data contains: Current (nA)\n",
      " and Dimensions: \n",
      "  x:  Length (um) of size 4\n",
      "  y:  Length (um) of size 5\n",
      "  bias:  Bias (V) of size 10\n"
     ]
    }
   ],
   "source": [
    "print(data_set.bias)\n",
    "print(data_set)"
   ]
  },
  {
   "cell_type": "markdown",
   "metadata": {},
   "source": [
    "## Plotting\n",
    "The ``Dataset`` object also comes with the ability to visualize its contents\n",
    "using the ``plot()`` function. Here we only show a simple application, but a more\n",
    "detailed description can be found in the plotting section.\n",
    "Here we plot a spectral image you can click in the image part of the plot on the\n",
    "left and the spectrum on the right will update.\n",
    "\n"
   ]
  },
  {
   "cell_type": "code",
   "execution_count": 15,
   "metadata": {
    "jupyter": {
     "outputs_hidden": false
    }
   },
   "outputs": [
    {
     "data": {
      "image/png": "[encoded data removed]",
      "text/plain": [
       "<Figure size 432x288 with 2 Axes>"
      ]
     },
     "metadata": {
      "needs_background": "light"
     },
     "output_type": "display_data"
    }
   ],
   "source": [
    "data_set.plot()"
   ]
  },
  {
   "cell_type": "markdown",
   "metadata": {},
   "source": [
    "The plotting depends on the data_type of the dataset and the dimension_types\n",
    "of it's dimension datasets. We set above the first two dimension_type types to\n",
    "``spatial`` and the third one to ``spectral``.\n",
    "\n",
    "The data_type was ``spectrum_image``.\n",
    "So the spatial dimensions are recognized as relevant for an image.\n",
    "If we change the data_type to image, we get an image.\n",
    "\n"
   ]
  },
  {
   "cell_type": "code",
   "execution_count": 16,
   "metadata": {
    "jupyter": {
     "outputs_hidden": false
    }
   },
   "outputs": [
    {
     "data": {
      "image/png": "[encoded data removed]",
      "text/plain": [
       "<Figure size 432x288 with 2 Axes>"
      ]
     },
     "metadata": {
      "needs_background": "light"
     },
     "output_type": "display_data"
    }
   ],
   "source": [
    "data_set.data_type = 'image'\n",
    "data_set.plot()"
   ]
  },
  {
   "cell_type": "markdown",
   "metadata": {},
   "source": [
    "## Saving\n",
    "\n",
    "These ``Dataset`` objects will be deleted from memory once the python script\n",
    "completes or when a notebook is closed. The information collected in a\n",
    "``Dataset`` can reliably be stored to files using functions in sister\n",
    "packages - ``pyUSID`` and ``pyNSID`` that write the dataset according to the\n",
    "**Universal Spectroscopy and Imaging Data (USID)** or **N-dimensional\n",
    "Spectrocsopy and Imaging Data (NSID)** formats.\n",
    "Here are links to how one could save such Datasets for each package:\n",
    "\n"
   ]
  },
  {
   "cell_type": "code",
   "execution_count": null,
   "metadata": {},
   "outputs": [],
   "source": []
  }
 ],
 "metadata": {
  "kernelspec": {
   "display_name": "Python 3.8.3 64-bit ('py38': conda)",
   "language": "python",
   "name": "python38364bitpy38conda375f1dc4f2604710a78697306e0eefc9"
  },
  "language_info": {
   "codemirror_mode": {
    "name": "ipython",
    "version": 3
   },
   "file_extension": ".py",
   "mimetype": "text/x-python",
   "name": "python",
   "nbconvert_exporter": "python",
   "pygments_lexer": "ipython3",
   "version": "3.8.5"
  },
  "toc": {
   "base_numbering": 1,
   "nav_menu": {},
   "number_sections": true,
   "sideBar": true,
   "skip_h1_title": false,
   "title_cell": "Table of Contents",
   "title_sidebar": "Contents",
   "toc_cell": false,
   "toc_position": {},
   "toc_section_display": true,
   "toc_window_display": false
  }
 },
 "nbformat": 4,
 "nbformat_minor": 4
}
